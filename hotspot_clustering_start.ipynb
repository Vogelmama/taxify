{
 "cells": [
  {
   "cell_type": "code",
   "execution_count": 1,
   "metadata": {},
   "outputs": [],
   "source": [
    "import pandas as pd, numpy as np, matplotlib.pyplot as plt\n",
    "from sklearn.cluster import DBSCAN\n",
    "from geopy.distance import great_circle\n",
    "from shapely.geometry import MultiPoint\n",
    "import matplotlib.pyplot as plt"
   ]
  },
  {
   "cell_type": "code",
   "execution_count": 2,
   "metadata": {},
   "outputs": [
    {
     "data": {
      "text/html": [
       "<div>\n",
       "<style scoped>\n",
       "    .dataframe tbody tr th:only-of-type {\n",
       "        vertical-align: middle;\n",
       "    }\n",
       "\n",
       "    .dataframe tbody tr th {\n",
       "        vertical-align: top;\n",
       "    }\n",
       "\n",
       "    .dataframe thead th {\n",
       "        text-align: right;\n",
       "    }\n",
       "</style>\n",
       "<table border=\"1\" class=\"dataframe\">\n",
       "  <thead>\n",
       "    <tr style=\"text-align: right;\">\n",
       "      <th></th>\n",
       "      <th>start_lat</th>\n",
       "      <th>start_lng</th>\n",
       "      <th>end_lat</th>\n",
       "      <th>end_lng</th>\n",
       "      <th>ride_value</th>\n",
       "    </tr>\n",
       "    <tr>\n",
       "      <th>start_time</th>\n",
       "      <th></th>\n",
       "      <th></th>\n",
       "      <th></th>\n",
       "      <th></th>\n",
       "      <th></th>\n",
       "    </tr>\n",
       "  </thead>\n",
       "  <tbody>\n",
       "    <tr>\n",
       "      <th>2022-03-01 00:00:00.133110000</th>\n",
       "      <td>59.436431</td>\n",
       "      <td>24.556602</td>\n",
       "      <td>59.438643</td>\n",
       "      <td>24.754031</td>\n",
       "      <td>2.74000</td>\n",
       "    </tr>\n",
       "    <tr>\n",
       "      <th>2022-03-01 00:00:01.112760000</th>\n",
       "      <td>59.402839</td>\n",
       "      <td>24.692944</td>\n",
       "      <td>59.437790</td>\n",
       "      <td>24.743403</td>\n",
       "      <td>1.19600</td>\n",
       "    </tr>\n",
       "    <tr>\n",
       "      <th>2022-03-01 00:00:01.780696000</th>\n",
       "      <td>59.407155</td>\n",
       "      <td>24.690181</td>\n",
       "      <td>59.523082</td>\n",
       "      <td>24.820903</td>\n",
       "      <td>3.69300</td>\n",
       "    </tr>\n",
       "    <tr>\n",
       "      <th>2022-03-01 00:00:01.821318000</th>\n",
       "      <td>59.405499</td>\n",
       "      <td>24.722777</td>\n",
       "      <td>59.442098</td>\n",
       "      <td>24.764780</td>\n",
       "      <td>1.17075</td>\n",
       "    </tr>\n",
       "    <tr>\n",
       "      <th>2022-03-01 00:00:01.881445000</th>\n",
       "      <td>59.442498</td>\n",
       "      <td>24.740105</td>\n",
       "      <td>59.451593</td>\n",
       "      <td>24.738421</td>\n",
       "      <td>0.25325</td>\n",
       "    </tr>\n",
       "  </tbody>\n",
       "</table>\n",
       "</div>"
      ],
      "text/plain": [
       "                               start_lat  start_lng    end_lat    end_lng  \\\n",
       "start_time                                                                  \n",
       "2022-03-01 00:00:00.133110000  59.436431  24.556602  59.438643  24.754031   \n",
       "2022-03-01 00:00:01.112760000  59.402839  24.692944  59.437790  24.743403   \n",
       "2022-03-01 00:00:01.780696000  59.407155  24.690181  59.523082  24.820903   \n",
       "2022-03-01 00:00:01.821318000  59.405499  24.722777  59.442098  24.764780   \n",
       "2022-03-01 00:00:01.881445000  59.442498  24.740105  59.451593  24.738421   \n",
       "\n",
       "                               ride_value  \n",
       "start_time                                 \n",
       "2022-03-01 00:00:00.133110000     2.74000  \n",
       "2022-03-01 00:00:01.112760000     1.19600  \n",
       "2022-03-01 00:00:01.780696000     3.69300  \n",
       "2022-03-01 00:00:01.821318000     1.17075  \n",
       "2022-03-01 00:00:01.881445000     0.25325  "
      ]
     },
     "execution_count": 2,
     "metadata": {},
     "output_type": "execute_result"
    }
   ],
   "source": [
    "#load the data\n",
    "df = pd.read_csv('/Users/sebastian/Desktop/personal_stuff/EG/taxify/robotex.csv')\n",
    "df = df.set_index(['start_time'])\n",
    "df.head()"
   ]
  },
  {
   "cell_type": "code",
   "execution_count": 3,
   "metadata": {},
   "outputs": [
    {
     "data": {
      "text/html": [
       "<div>\n",
       "<style scoped>\n",
       "    .dataframe tbody tr th:only-of-type {\n",
       "        vertical-align: middle;\n",
       "    }\n",
       "\n",
       "    .dataframe tbody tr th {\n",
       "        vertical-align: top;\n",
       "    }\n",
       "\n",
       "    .dataframe thead th {\n",
       "        text-align: right;\n",
       "    }\n",
       "</style>\n",
       "<table border=\"1\" class=\"dataframe\">\n",
       "  <thead>\n",
       "    <tr style=\"text-align: right;\">\n",
       "      <th></th>\n",
       "      <th>start_lat</th>\n",
       "      <th>start_lng</th>\n",
       "      <th>end_lat</th>\n",
       "      <th>end_lng</th>\n",
       "      <th>ride_value</th>\n",
       "    </tr>\n",
       "    <tr>\n",
       "      <th>start_time</th>\n",
       "      <th></th>\n",
       "      <th></th>\n",
       "      <th></th>\n",
       "      <th></th>\n",
       "      <th></th>\n",
       "    </tr>\n",
       "  </thead>\n",
       "  <tbody>\n",
       "    <tr>\n",
       "      <th>2022-03-01 00:59:55.926753000</th>\n",
       "      <td>59.434162</td>\n",
       "      <td>24.768303</td>\n",
       "      <td>59.436680</td>\n",
       "      <td>24.751376</td>\n",
       "      <td>0.24500</td>\n",
       "    </tr>\n",
       "    <tr>\n",
       "      <th>2022-03-01 00:59:55.949169000</th>\n",
       "      <td>59.379558</td>\n",
       "      <td>24.539558</td>\n",
       "      <td>59.392457</td>\n",
       "      <td>24.720749</td>\n",
       "      <td>2.53925</td>\n",
       "    </tr>\n",
       "    <tr>\n",
       "      <th>2022-03-01 00:59:58.654974000</th>\n",
       "      <td>59.477130</td>\n",
       "      <td>24.923310</td>\n",
       "      <td>59.429408</td>\n",
       "      <td>24.714201</td>\n",
       "      <td>3.18925</td>\n",
       "    </tr>\n",
       "    <tr>\n",
       "      <th>2022-03-01 00:59:58.885324000</th>\n",
       "      <td>59.451005</td>\n",
       "      <td>24.852003</td>\n",
       "      <td>59.427469</td>\n",
       "      <td>24.774002</td>\n",
       "      <td>1.26400</td>\n",
       "    </tr>\n",
       "    <tr>\n",
       "      <th>2022-03-01 00:59:59.835685000</th>\n",
       "      <td>59.383947</td>\n",
       "      <td>24.672523</td>\n",
       "      <td>59.408012</td>\n",
       "      <td>24.723901</td>\n",
       "      <td>0.97675</td>\n",
       "    </tr>\n",
       "  </tbody>\n",
       "</table>\n",
       "</div>"
      ],
      "text/plain": [
       "                               start_lat  start_lng    end_lat    end_lng  \\\n",
       "start_time                                                                  \n",
       "2022-03-01 00:59:55.926753000  59.434162  24.768303  59.436680  24.751376   \n",
       "2022-03-01 00:59:55.949169000  59.379558  24.539558  59.392457  24.720749   \n",
       "2022-03-01 00:59:58.654974000  59.477130  24.923310  59.429408  24.714201   \n",
       "2022-03-01 00:59:58.885324000  59.451005  24.852003  59.427469  24.774002   \n",
       "2022-03-01 00:59:59.835685000  59.383947  24.672523  59.408012  24.723901   \n",
       "\n",
       "                               ride_value  \n",
       "start_time                                 \n",
       "2022-03-01 00:59:55.926753000     0.24500  \n",
       "2022-03-01 00:59:55.949169000     2.53925  \n",
       "2022-03-01 00:59:58.654974000     3.18925  \n",
       "2022-03-01 00:59:58.885324000     1.26400  \n",
       "2022-03-01 00:59:59.835685000     0.97675  "
      ]
     },
     "execution_count": 3,
     "metadata": {},
     "output_type": "execute_result"
    }
   ],
   "source": [
    "#split the dataframe hourwise and use time stamp as index\n",
    "df_0 = df.loc['2022-03-01 00:00:00*':'2022-03-01 01:00:00*']\n",
    "df_1 = df.loc['2022-03-01 01:00:00*':'2022-03-01 02:00:00*']\n",
    "df_8 = df.loc['2022-03-01 08:00:00*':'2022-03-01 09:00:00*']\n",
    "df_0.tail()"
   ]
  },
  {
   "cell_type": "code",
   "execution_count": 4,
   "metadata": {},
   "outputs": [
    {
     "name": "stdout",
     "output_type": "stream",
     "text": [
      "[[59.43643079 24.5566016 ]\n",
      " [59.40283924 24.69294409]\n",
      " [59.40715529 24.69018063]\n",
      " ...\n",
      " [59.47712965 24.92330987]\n",
      " [59.45100524 24.85200271]\n",
      " [59.38394672 24.67252298]]\n"
     ]
    }
   ],
   "source": [
    "#select start_lat and start_lng from dataframe and convert pd_dataframe to np_array\n",
    "coords_0 = df_0.loc[:'start_lat',:'start_lng'].values\n",
    "coords_1 = df_1.loc[:'start_lat',:'start_lng'].values\n",
    "coords_8 = df_8.loc[:'start_lat',:'start_lng'].values\n",
    "print(coords_0)"
   ]
  },
  {
   "cell_type": "code",
   "execution_count": 5,
   "metadata": {},
   "outputs": [],
   "source": [
    "# define the number of kilometers in one radian\n",
    "kms_per_radian = 6371.0088\n",
    "\n",
    "# define epsilon as 0.4 kilometers, converted to radians for use by haversine\n",
    "epsilon = .4 / kms_per_radian"
   ]
  },
  {
   "cell_type": "code",
   "execution_count": 6,
   "metadata": {},
   "outputs": [
    {
     "name": "stdout",
     "output_type": "stream",
     "text": [
      "DBSCAN(algorithm='ball_tree', eps=6.278440550890465e-05, leaf_size=30,\n",
      "    metric='haversine', metric_params=None, min_samples=10, n_jobs=1,\n",
      "    p=None)\n"
     ]
    }
   ],
   "source": [
    "#Density-Based Spatial Clustering of Applications with Noise for clustering the arrays\n",
    "db_0 = DBSCAN(eps=epsilon, min_samples=10, algorithm='ball_tree', metric='haversine').fit(np.radians(coords_0))\n",
    "db_1 = DBSCAN(eps=epsilon, min_samples=10, algorithm='ball_tree', metric='haversine').fit(np.radians(coords_1))\n",
    "db_8 = DBSCAN(eps=epsilon, min_samples=10, algorithm='ball_tree', metric='haversine').fit(np.radians(coords_8))\n",
    "print(db_0)"
   ]
  },
  {
   "cell_type": "code",
   "execution_count": 7,
   "metadata": {},
   "outputs": [
    {
     "name": "stdout",
     "output_type": "stream",
     "text": [
      "[-1  0  0 ... -1  3  1]\n"
     ]
    }
   ],
   "source": [
    "#set cluster labels\n",
    "cluster_labels_0 = db_0.labels_\n",
    "cluster_labels_1 = db_1.labels_\n",
    "cluster_labels_8 = db_8.labels_\n",
    "print(cluster_labels_0)"
   ]
  },
  {
   "cell_type": "code",
   "execution_count": 8,
   "metadata": {},
   "outputs": [
    {
     "name": "stdout",
     "output_type": "stream",
     "text": [
      "19\n"
     ]
    }
   ],
   "source": [
    "#get the number of clusters\n",
    "num_clusters_0 = len(set(cluster_labels_0))\n",
    "num_clusters_1 = len(set(cluster_labels_1))\n",
    "num_clusters_8 = len(set(cluster_labels_8))\n",
    "print(num_clusters_0)"
   ]
  },
  {
   "cell_type": "code",
   "execution_count": 9,
   "metadata": {},
   "outputs": [
    {
     "name": "stdout",
     "output_type": "stream",
     "text": [
      "0     [[59.40283923972711, 24.69294409437466], [59.4...\n",
      "1     [[59.38607300448272, 24.69213111088469], [59.3...\n",
      "2     [[59.4418514118956, 24.87454753873742], [59.44...\n",
      "3     [[59.44129408897275, 24.841235606407828], [59....\n",
      "4     [[59.416679703502595, 24.79902331333763], [59....\n",
      "5     [[59.400669500445424, 24.648455286420997], [59...\n",
      "6     [[59.426779107190846, 24.622475130586782], [59...\n",
      "7     [[59.50769680753433, 24.82983117359132], [59.5...\n",
      "8     [[59.37344916346678, 24.71240901956801], [59.3...\n",
      "9     [[59.41662857130694, 24.88650733117569], [59.4...\n",
      "10    [[59.498390585831025, 24.828926123410948], [59...\n",
      "11    [[59.45100844443674, 24.83673559871785], [59.4...\n",
      "12    [[59.5074072415699, 24.85107540593912], [59.50...\n",
      "13    [[59.42700853434451, 24.634547190848583], [59....\n",
      "14    [[59.400247327732295, 24.71932810022236], [59....\n",
      "15    [[59.38737912206393, 24.661052915476944], [59....\n",
      "16    [[59.37766137846054, 24.666538318936357], [59....\n",
      "17    [[59.367750945499274, 24.645455361272173], [59...\n",
      "18                                                   []\n",
      "dtype: object\n"
     ]
    }
   ],
   "source": [
    "#turn the clusters in to a pandas series, where each element is a cluster of points\n",
    "clusters_0 = pd.Series([coords_0[cluster_labels_0 == n] for n in range(num_clusters_0)])\n",
    "clusters_1 = pd.Series([coords_1[cluster_labels_1 == n] for n in range(num_clusters_1)])\n",
    "clusters_8 = pd.Series([coords_8[cluster_labels_8 == n] for n in range(num_clusters_8)])\n",
    "print(clusters_0)"
   ]
  },
  {
   "cell_type": "code",
   "execution_count": 10,
   "metadata": {},
   "outputs": [
    {
     "name": "stdout",
     "output_type": "stream",
     "text": [
      "Number of clusters: 19\n",
      "Number of clusters: 20\n",
      "Number of clusters: 20\n"
     ]
    }
   ],
   "source": [
    "#print the number of clusters\n",
    "print('Number of clusters: {}'.format(num_clusters_0))\n",
    "print('Number of clusters: {}'.format(num_clusters_1))\n",
    "print('Number of clusters: {}'.format(num_clusters_8))"
   ]
  },
  {
   "cell_type": "code",
   "execution_count": 11,
   "metadata": {},
   "outputs": [],
   "source": [
    "#centeroidnp + .vectorize function finds the centroid of each cluster\n",
    "def centeroidnp(arr):\n",
    "    length = arr.shape[0]\n",
    "    sum_x = np.sum(arr[:, 0])\n",
    "    sum_y = np.sum(arr[:, 1])\n",
    "    return sum_x/length, sum_y/length"
   ]
  },
  {
   "cell_type": "code",
   "execution_count": 12,
   "metadata": {},
   "outputs": [],
   "source": [
    "centeroidnp = np.vectorize(centeroidnp)"
   ]
  },
  {
   "cell_type": "code",
   "execution_count": 20,
   "metadata": {},
   "outputs": [
    {
     "name": "stdout",
     "output_type": "stream",
     "text": [
      "(array([59.43305716, 59.3856485 , 59.44680799, 59.44119425, 59.41729355,\n",
      "       59.39967398, 59.4281764 , 59.50930579, 59.37564183, 59.41669478,\n",
      "       59.4962397 , 59.45136932, 59.50610652, 59.42753015, 59.39877494,\n",
      "       59.38869031, 59.37683061, 59.3688034 ,         nan]), array([24.73810698, 24.67835156, 24.88034304, 24.82617576, 24.79886029,\n",
      "       24.64712911, 24.6203348 , 24.83066395, 24.71406063, 24.88638675,\n",
      "       24.83246091, 24.83722244, 24.8531834 , 24.63486281, 24.71710754,\n",
      "       24.65497316, 24.66459168, 24.64335075,         nan]))\n"
     ]
    },
    {
     "name": "stderr",
     "output_type": "stream",
     "text": [
      "/Users/sebastian/anaconda3/lib/python3.6/site-packages/ipykernel_launcher.py:6: RuntimeWarning: invalid value encountered in double_scalars\n",
      "  \n",
      "/Users/sebastian/anaconda3/lib/python3.6/site-packages/numpy/lib/function_base.py:2831: RuntimeWarning: invalid value encountered in ? (vectorized)\n",
      "  outputs = ufunc(*inputs)\n"
     ]
    }
   ],
   "source": [
    "#store centroids of clusters_0 and clusters_8 in clusters_0_centr and clusters_8_centr\n",
    "clusters_0_centr = centeroidnp(clusters_0)\n",
    "clusters_1_centr = centeroidnp(clusters_1)\n",
    "clusters_8_centr = centeroidnp(clusters_8)\n",
    "print(clusters_0_centr)"
   ]
  },
  {
   "cell_type": "code",
   "execution_count": 77,
   "metadata": {},
   "outputs": [],
   "source": [
    "x_0 = clusters_0_centr[0]\n",
    "y_0 = clusters_0_centr[1]\n",
    "x_1 = clusters_1_centr[0]\n",
    "y_1 = clusters_1_centr[1]\n",
    "x_8 = clusters_8_centr[0]\n",
    "y_8 = clusters_8_centr[1]"
   ]
  },
  {
   "cell_type": "code",
   "execution_count": 138,
   "metadata": {},
   "outputs": [
    {
     "data": {
      "image/png": "[encoded data removed]",
      "text/plain": [
       "<Figure size 432x288 with 1 Axes>"
      ]
     },
     "metadata": {},
     "output_type": "display_data"
    }
   ],
   "source": [
    "times = ['0.00 - 1.00 AM','1.00 - 2.00 AM','8.00 - 9.00 AM']\n",
    "plt.scatter(x_0,y_0, alpha = 0.7, label=\"test1\")\n",
    "plt.scatter(x_1,y_1, alpha = 0.7)\n",
    "plt.scatter(x_8,y_8, alpha = 0.7)\n",
    "plt.xlabel('latitude', size = 20)\n",
    "plt.ylabel('longitude', size = 20)\n",
    "plt.title('Centroids of clusters', size = 25)\n",
    "plt.legend(times, loc = 'upper left', bbox_to_anchor=(1.03, 1.03))\n",
    "plt.show()"
   ]
  },
  {
   "cell_type": "code",
   "execution_count": 116,
   "metadata": {},
   "outputs": [
    {
     "ename": "NameError",
     "evalue": "name 'rand' is not defined",
     "output_type": "error",
     "traceback": [
      "\u001b[0;31m---------------------------------------------------------------------------\u001b[0m",
      "\u001b[0;31mNameError\u001b[0m                                 Traceback (most recent call last)",
      "\u001b[0;32m<ipython-input-116-90d925cfd521>\u001b[0m in \u001b[0;36m<module>\u001b[0;34m()\u001b[0m\n\u001b[1;32m      2\u001b[0m \u001b[0;32mfor\u001b[0m \u001b[0mcolor\u001b[0m \u001b[0;32min\u001b[0m \u001b[0;34m[\u001b[0m\u001b[0;34m'red'\u001b[0m\u001b[0;34m,\u001b[0m \u001b[0;34m'green'\u001b[0m\u001b[0;34m,\u001b[0m \u001b[0;34m'blue'\u001b[0m\u001b[0;34m]\u001b[0m\u001b[0;34m:\u001b[0m\u001b[0;34m\u001b[0m\u001b[0m\n\u001b[1;32m      3\u001b[0m     \u001b[0mn\u001b[0m \u001b[0;34m=\u001b[0m \u001b[0;36m750\u001b[0m\u001b[0;34m\u001b[0m\u001b[0m\n\u001b[0;32m----> 4\u001b[0;31m     \u001b[0mx\u001b[0m\u001b[0;34m,\u001b[0m \u001b[0my\u001b[0m \u001b[0;34m=\u001b[0m \u001b[0mrand\u001b[0m\u001b[0;34m(\u001b[0m\u001b[0;36m2\u001b[0m\u001b[0;34m,\u001b[0m \u001b[0mn\u001b[0m\u001b[0;34m)\u001b[0m\u001b[0;34m\u001b[0m\u001b[0m\n\u001b[0m\u001b[1;32m      5\u001b[0m     ax.scatter(x_0, y_0, c=color, s=scale, label=color,\n\u001b[1;32m      6\u001b[0m                alpha=0.3, edgecolors='none')\n",
      "\u001b[0;31mNameError\u001b[0m: name 'rand' is not defined"
     ]
    },
    {
     "data": {
      "image/png": "[encoded data removed]",
      "text/plain": [
       "<Figure size 432x288 with 1 Axes>"
      ]
     },
     "metadata": {},
     "output_type": "display_data"
    }
   ],
   "source": [
    "\n"
   ]
  },
  {
   "cell_type": "code",
   "execution_count": null,
   "metadata": {},
   "outputs": [],
   "source": []
  },
  {
   "cell_type": "code",
   "execution_count": null,
   "metadata": {},
   "outputs": [],
   "source": []
  }
 ],
 "metadata": {
  "kernelspec": {
   "display_name": "Python 3",
   "language": "python",
   "name": "python3"
  },
  "language_info": {
   "codemirror_mode": {
    "name": "ipython",
    "version": 3
   },
   "file_extension": ".py",
   "mimetype": "text/x-python",
   "name": "python",
   "nbconvert_exporter": "python",
   "pygments_lexer": "ipython3",
   "version": "3.6.6"
  }
 },
 "nbformat": 4,
 "nbformat_minor": 2
}
